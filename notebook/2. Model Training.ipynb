{
 "cells": [
  {
   "cell_type": "markdown",
   "metadata": {},
   "source": [
    "<!DOCTYPE html>\n",
    "<html>\n",
    "<head>\n",
    "    <style>\n",
    "        .chapter-heading {\n",
    "            background: linear-gradient(45deg, #333 25%, transparent 25%, transparent 75%, #333 75%, #333);\n",
    "            color: #FFC8C2;\n",
    "            padding: 10px;\n",
    "            border-radius: 5px;\n",
    "            box-shadow: 0 2px 4px rgba(0, 0, 0, 0.2);\n",
    "            text-align: center;\n",
    "            font-size: 18px;\n",
    "            font-weight: bold;\n",
    "            margin-bottom: 10px;\n",
    "            /* Improved text visibility */\n",
    "            text-shadow: 2px 2px 4px rgba(0, 0, 0, 0.5); /* Adjust shadow as needed */\n",
    "        }\n",
    "    </style>\n",
    "</head>\n",
    "<body>\n",
    "    <div class=\"chapter-heading\">\n",
    "        <h1>Heart Disease Prediction Model Development</h1>\n",
    "    </div>\n",
    "</body>\n",
    "</html>\n"
   ]
  },
  {
   "cell_type": "markdown",
   "metadata": {},
   "source": [
    "<!DOCTYPE html>\n",
    "<html>\n",
    "<head>\n",
    "    <style>\n",
    "        .chapter-heading {\n",
    "            background: linear-gradient(45deg, #333 25%, transparent 25%, transparent 75%, #333 75%, #333);\n",
    "            color: #FFC8C2;\n",
    "            padding: 10px;\n",
    "            border-radius: 5px;\n",
    "            box-shadow: 0 2px 4px rgba(0, 0, 0, 0.2);\n",
    "            text-align: center;\n",
    "            font-size: 18px;\n",
    "            font-weight: bold;\n",
    "            margin-bottom: 10px;\n",
    "            /* Improved text visibility */\n",
    "            text-shadow: 2px 2px 4px rgba(0, 0, 0, 0.5); /* Adjust shadow as needed */\n",
    "        }\n",
    "    </style>\n",
    "</head>\n",
    "<body>\n",
    "    <div class=\"chapter-heading\">\n",
    "        <h1>About Author</h1>\n",
    "    </div>\n",
    "</body>\n",
    "</html>\n"
   ]
  },
  {
   "cell_type": "markdown",
   "metadata": {},
   "source": [
    "- Project: Heart Disease Prediction\n",
    "- Author: Muhammad Waqas\n",
    "- Author's Contact Info: \n",
    "    - **Email:** waqasliaqat630@gmailcom\n",
    "    - [Linkedin](https://www.linkedin.com/in/muhammad-waqas-liaqat/)\n",
    "    - [Github](https://github.com/waqas-liaqat)\n",
    "    - [kaggle](https://www.kaggle.com/muhammadwaqas630)"
   ]
  },
  {
   "cell_type": "markdown",
   "metadata": {},
   "source": [
    "<!DOCTYPE html>\n",
    "<html>\n",
    "<head>\n",
    "    <style>\n",
    "        .chapter-heading {\n",
    "            background: linear-gradient(45deg, #333 25%, transparent 25%, transparent 75%, #333 75%, #333);\n",
    "            color: #FFC8C2;\n",
    "            padding: 10px;\n",
    "            border-radius: 5px;\n",
    "            box-shadow: 0 2px 4px rgba(0, 0, 0, 0.2);\n",
    "            text-align: center;\n",
    "            font-size: 18px;\n",
    "            font-weight: bold;\n",
    "            margin-bottom: 10px;\n",
    "            /* Improved text visibility */\n",
    "            text-shadow: 2px 2px 4px rgba(0, 0, 0, 0.5); /* Adjust shadow as needed */\n",
    "        }\n",
    "    </style>\n",
    "</head>\n",
    "<body>\n",
    "    <div class=\"chapter-heading\">\n",
    "        <h1>Meta-Data of Dataset</h1>\n",
    "    </div>\n",
    "</body>\n",
    "</html>\n"
   ]
  },
  {
   "cell_type": "markdown",
   "metadata": {},
   "source": [
    "`Date:` 09-07-2024\\\n",
    "`Dataset:` Heart Disease UCI\n",
    "### Context\n",
    "This is a multivariate type of dataset which means providing or involving a variety of separate mathematical or statistical variables, multivariate numerical data analysis. It is composed of 14 attributes which are age, sex, chest pain type, resting blood pressure, serum cholesterol, fasting blood sugar, resting electrocardiographic results, maximum heart rate achieved, exercise-induced angina, oldpeak — ST depression induced by exercise relative to rest, the slope of the peak exercise ST segment, number of major vessels and Thalassemia. This database includes 76 attributes, but all published studies relate to the use of a subset of 14 of them. The Cleveland database is the only one used by ML researchers to date. One of the major tasks on this dataset is to predict based on the given attributes of a patient that whether that particular person has heart disease or not and other is the experimental task to diagnose and find out various insights from this dataset which could help in understanding the problem more.\n",
    "\n",
    "### Column Descriptions:\n",
    "* `id` (Unique id for each patient)\n",
    "* `age` (Age of the patient in years)\n",
    "* `origin` (place of study)\n",
    "* `sex` (Male/Female)\n",
    "* `cp` chest pain type ([typical angina, atypical angina, non-anginal, asymptomatic])\n",
    "* `trestbps` resting blood pressure (resting blood pressure (in mm Hg on admission to the hospital))\n",
    "* `chol` (serum cholesterol in mg/dl)\n",
    "* `fbs` (if fasting blood sugar > 120 mg/dl)\n",
    "* `restecg` (resting electrocardiographic results)\n",
    "* `-- Values`: [normal, stt abnormality, lv hypertrophy]\n",
    "* `thalach`: maximum heart rate achieved\n",
    "* `exang`: exercise-induced angina (True/ False)\n",
    "* `oldpeak`: ST depression induced by exercise relative to rest\n",
    "* `slope`: the slope of the peak exercise ST segment\n",
    "* `ca`: number of major vessels (0-3) colored by fluoroscopy\n",
    "* `thal`: [normal; fixed defect; reversible defect]\n",
    "* `num`: the predicted attribute\n",
    "### Acknowledgements\n",
    "#### Creators:\n",
    "* Hungarian Institute of Cardiology. Budapest: Andras Janosi, M.D.\n",
    "* University Hospital, Zurich, Switzerland: William Steinbrunn, M.D.\n",
    "* University Hospital, Basel, Switzerland: Matthias Pfisterer, M.D.\n",
    "* V.A. Medical Center, Long Beach and Cleveland Clinic Foundation: Robert Detrano, M.D., Ph.D.\n",
    "#### Relevant Papers:\n",
    "* Detrano, R., Janosi, A., Steinbrunn, W., Pfisterer, M., Schmid, J., Sandhu, S., Guppy, K., Lee, S., & Froelicher, V. (1989). International application of a new probability algorithm for the diagnosis of coronary artery disease. American Journal of Cardiology, 64,304--310.\n",
    "*  David W. Aha & Dennis Kibler. \"Instance-based prediction of heart-disease presence with the Cleveland database.\" \n",
    "* Gennari, J.H., Langley, P, & Fisher, D. (1989). Models of incremental concept formation. Artificial Intelligence, 40, 11--61. \n",
    "  \n",
    "**Citation Request:**\n",
    "The authors of the databases have requested that any publications resulting from the use of the data include the names of the principal investigator responsible for the data collection at each institution. They would be:\n",
    "\n",
    "* Hungarian Institute of Cardiology. Budapest: Andras Janosi, M.D.\n",
    "* University Hospital, Zurich, Switzerland: William Steinbrunn, M.D.\n",
    "* University Hospital, Basel, Switzerland: Matthias Pfisterer, M.D.\n",
    "* V.A. Medical Center, Long Beach and Cleveland Clinic Foundation:Robert Detrano, M.D., Ph.D."
   ]
  },
  {
   "cell_type": "markdown",
   "metadata": {},
   "source": [
    "\n",
    "<!DOCTYPE html>\n",
    "<html>\n",
    "<head>\n",
    "    <style>\n",
    "        .chapter-heading {\n",
    "            background: linear-gradient(45deg, #333 25%, transparent 25%, transparent 75%, #333 75%, #333);\n",
    "            color: #FFC8C2;\n",
    "            padding: 10px;\n",
    "            border-radius: 5px;\n",
    "            box-shadow: 0 2px 4px rgba(0, 0, 0, 0.2);\n",
    "            text-align: center;\n",
    "            font-size: 18px;\n",
    "            font-weight: bold;\n",
    "            margin-bottom: 10px;\n",
    "            /* Improved text visibility */\n",
    "            text-shadow: 2px 2px 4px rgba(0, 0, 0, 0.5); /* Adjust shadow as needed */\n",
    "        }\n",
    "    </style>\n",
    "</head>\n",
    "<body>\n",
    "    <div class=\"chapter-heading\">\n",
    "        <h1>Objective</h1>\n",
    "    </div>\n",
    "</body>\n",
    "</html>\n",
    "\n",
    "    To find best model with best parameters with more accuracy.\n",
    "\n"
   ]
  },
  {
   "cell_type": "markdown",
   "metadata": {},
   "source": [
    "- Let's start with chapter 01."
   ]
  },
  {
   "cell_type": "markdown",
   "metadata": {},
   "source": [
    "<!DOCTYPE html>\n",
    "<html>\n",
    "<head>\n",
    "    <style>\n",
    "        .chapter-heading {\n",
    "            background: linear-gradient(45deg, #333 25%, transparent 25%, transparent 75%, #333 75%, #333);\n",
    "            color: #FFC8C2;\n",
    "            padding: 10px;\n",
    "            border-radius: 5px;\n",
    "            box-shadow: 0 2px 4px rgba(0, 0, 0, 0.2);\n",
    "            text-align: center;\n",
    "            font-size: 18px;\n",
    "            font-weight: bold;\n",
    "            margin-bottom: 10px;\n",
    "            /* Improved text visibility */\n",
    "            text-shadow: 2px 2px 4px rgba(0, 0, 0, 0.5); /* Adjust shadow as needed */\n",
    "        }\n",
    "    </style>\n",
    "</head>\n",
    "<body>\n",
    "    <div class=\"chapter-heading\">\n",
    "        <h1>Chapter 1: Import Libraries</h1>\n",
    "    </div>\n",
    "</body>\n",
    "</html>\n"
   ]
  },
  {
   "cell_type": "code",
   "execution_count": null,
   "metadata": {},
   "outputs": [],
   "source": [
    "# To handle data\n",
    "import pandas as pd\n",
    "import numpy as np\n",
    "# to visualize data\n",
    "import seaborn as sns\n",
    "import matplotlib.pyplot as plt\n",
    "import plotly.express as px\n",
    "%matplotlib inline\n",
    "# removing warnings\n",
    "import warnings\n",
    "warnings.filterwarnings('ignore')\n",
    "# pickle\n",
    "import pickle\n",
    "# sklearn imputers\n",
    "from sklearn.experimental import enable_iterative_imputer\n",
    "from sklearn.impute import IterativeImputer\n",
    "from sklearn.impute import SimpleImputer\n",
    "# for normality tests\n",
    "from scipy.stats import shapiro,chi2_contingency\n",
    "# preprocessing\n",
    "from sklearn.preprocessing import MinMaxScaler # min max scaler is for normalizing data and making all values positive\n",
    "from sklearn.preprocessing import LabelEncoder\n",
    "# for train test split\n",
    "from sklearn.model_selection import train_test_split\n",
    "# Loading Matrics\n",
    "from sklearn.metrics import accuracy_score\n",
    "from sklearn.metrics import confusion_matrix\n",
    "from sklearn.metrics import classification_report\n",
    "# models\n",
    "from sklearn.linear_model import LogisticRegression\n",
    "from sklearn.tree import DecisionTreeClassifier\n",
    "from sklearn.ensemble import RandomForestClassifier\n",
    "from sklearn.ensemble import GradientBoostingClassifier\n",
    "from sklearn.svm import SVC\n",
    "from sklearn.neighbors import KNeighborsClassifier\n",
    "from xgboost import XGBClassifier\n",
    "from sklearn.ensemble import AdaBoostClassifier\n",
    "# parameter tuning\n",
    "from sklearn.model_selection import GridSearchCV"
   ]
  },
  {
   "cell_type": "markdown",
   "metadata": {},
   "source": [
    "<!DOCTYPE html>\n",
    "<html>\n",
    "<head>\n",
    "    <style>\n",
    "        .chapter-heading {\n",
    "            background: linear-gradient(45deg, #333 25%, transparent 25%, transparent 75%, #333 75%, #333);\n",
    "            color: #FFC8C2;\n",
    "            padding: 10px;\n",
    "            border-radius: 5px;\n",
    "            box-shadow: 0 2px 4px rgba(0, 0, 0, 0.2);\n",
    "            text-align: center;\n",
    "            font-size: 18px;\n",
    "            font-weight: bold;\n",
    "            margin-bottom: 10px;\n",
    "            /* Improved text visibility */\n",
    "            text-shadow: 2px 2px 4px rgba(0, 0, 0, 0.5); /* Adjust shadow as needed */\n",
    "        }\n",
    "    </style>\n",
    "</head>\n",
    "<body>\n",
    "    <div class=\"chapter-heading\">\n",
    "        <h1>Chapter 2: Load Dataset</h1>\n",
    "    </div>\n",
    "</body>\n",
    "</html>\n"
   ]
  },
  {
   "cell_type": "code",
   "execution_count": null,
   "metadata": {},
   "outputs": [],
   "source": [
    "df=pd.read_csv('heart_disease_uci.csv')\n",
    "# show first 5 rows\n",
    "df.head()"
   ]
  },
  {
   "cell_type": "markdown",
   "metadata": {},
   "source": [
    "<!DOCTYPE html>\n",
    "<html>\n",
    "<head>\n",
    "    <style>\n",
    "        .chapter-heading {\n",
    "            background: linear-gradient(45deg, #333 25%, transparent 25%, transparent 75%, #333 75%, #333);\n",
    "            color: #FFC8C2;\n",
    "            padding: 10px;\n",
    "            border-radius: 5px;\n",
    "            box-shadow: 0 2px 4px rgba(0, 0, 0, 0.2);\n",
    "            text-align: center;\n",
    "            font-size: 18px;\n",
    "            font-weight: bold;\n",
    "            margin-bottom: 10px;\n",
    "            /* Improved text visibility */\n",
    "            text-shadow: 2px 2px 4px rgba(0, 0, 0, 0.5); /* Adjust shadow as needed */\n",
    "        }\n",
    "    </style>\n",
    "</head>\n",
    "<body>\n",
    "    <div class=\"chapter-heading\">\n",
    "        <h1>Chapter 7: Label Encoding</h1>\n",
    "    </div>\n",
    "</body>\n",
    "</html>\n"
   ]
  },
  {
   "cell_type": "code",
   "execution_count": null,
   "metadata": {},
   "outputs": [],
   "source": [
    "# Dictionary to store the LabelEncoders\n",
    "label_encoders = {}\n",
    "\n",
    "# Iterate over the columns of the DataFrame\n",
    "for col in df.columns:\n",
    "    if df[col].dtype == 'object' or df[col].dtype == 'category':\n",
    "        lab_enc = LabelEncoder()\n",
    "        df[col] = lab_enc.fit_transform(df[col])\n",
    "        label_encoders[col] = lab_enc"
   ]
  },
  {
   "cell_type": "markdown",
   "metadata": {},
   "source": [
    "<!DOCTYPE html>\n",
    "<html>\n",
    "<head>\n",
    "    <style>\n",
    "        .chapter-heading {\n",
    "            background: linear-gradient(45deg, #333 25%, transparent 25%, transparent 75%, #333 75%, #333);\n",
    "            color: #FFC8C2;\n",
    "            padding: 10px;\n",
    "            border-radius: 5px;\n",
    "            box-shadow: 0 2px 4px rgba(0, 0, 0, 0.2);\n",
    "            text-align: center;\n",
    "            font-size: 18px;\n",
    "            font-weight: bold;\n",
    "            margin-bottom: 10px;\n",
    "            /* Improved text visibility */\n",
    "            text-shadow: 2px 2px 4px rgba(0, 0, 0, 0.5); /* Adjust shadow as needed */\n",
    "        }\n",
    "    </style>\n",
    "</head>\n",
    "<body>\n",
    "    <div class=\"chapter-heading\">\n",
    "        <h1>Chapter 08: Scalling numeric features</h1>\n",
    "    </div>\n",
    "</body>\n",
    "</html>\n"
   ]
  },
  {
   "cell_type": "code",
   "execution_count": null,
   "metadata": {},
   "outputs": [],
   "source": [
    "# separating numeric features\n",
    "numeric_cols = ['oldpeak', 'thalch', 'chol', 'trestbps', 'age']"
   ]
  },
  {
   "cell_type": "code",
   "execution_count": null,
   "metadata": {},
   "outputs": [
    {
     "data": {
      "text/plain": [
       "{'oldpeak': MinMaxScaler(),\n",
       " 'thalch': MinMaxScaler(),\n",
       " 'chol': MinMaxScaler(),\n",
       " 'trestbps': MinMaxScaler(),\n",
       " 'age': MinMaxScaler()}"
      ]
     },
     "metadata": {},
     "output_type": "display_data"
    }
   ],
   "source": [
    "scalers={}\n",
    "for i in numeric_cols:\n",
    "    scaler=MinMaxScaler()\n",
    "    df[i]=scaler.fit_transform(df[[i]])\n",
    "    scalers[i]=scaler\n",
    "scalers"
   ]
  },
  {
   "cell_type": "markdown",
   "metadata": {},
   "source": [
    "<!DOCTYPE html>\n",
    "<html>\n",
    "<head>\n",
    "    <style>\n",
    "        .chapter-heading {\n",
    "            background: linear-gradient(45deg, #333 25%, transparent 25%, transparent 75%, #333 75%, #333);\n",
    "            color: #FFC8C2;\n",
    "            padding: 10px;\n",
    "            border-radius: 5px;\n",
    "            box-shadow: 0 2px 4px rgba(0, 0, 0, 0.2);\n",
    "            text-align: center;\n",
    "            font-size: 18px;\n",
    "            font-weight: bold;\n",
    "            margin-bottom: 10px;\n",
    "            /* Improved text visibility */\n",
    "            text-shadow: 2px 2px 4px rgba(0, 0, 0, 0.5); /* Adjust shadow as needed */\n",
    "        }\n",
    "    </style>\n",
    "</head>\n",
    "<body>\n",
    "    <div class=\"chapter-heading\">\n",
    "        <h1>Chapter 09: ML Models Building</h1>\n",
    "    </div>\n",
    "</body>\n",
    "</html>\n"
   ]
  },
  {
   "cell_type": "markdown",
   "metadata": {},
   "source": [
    "### 9.1. split into x and y"
   ]
  },
  {
   "cell_type": "code",
   "execution_count": null,
   "metadata": {},
   "outputs": [],
   "source": [
    "# Let's split the data into Features (x) and Labels (y)\n",
    "x = df.drop(['id', 'num'], axis = 1)\n",
    "y = df['num']"
   ]
  },
  {
   "cell_type": "markdown",
   "metadata": {},
   "source": [
    "### 9.2. split into train and test"
   ]
  },
  {
   "cell_type": "code",
   "execution_count": null,
   "metadata": {},
   "outputs": [],
   "source": [
    "x_train, x_test, y_train, y_test = train_test_split(x, y, test_size = 0.2, random_state = 42)"
   ]
  },
  {
   "cell_type": "markdown",
   "metadata": {},
   "source": [
    "### 9.3. Applying the functions to find best model:"
   ]
  },
  {
   "cell_type": "code",
   "execution_count": null,
   "metadata": {},
   "outputs": [],
   "source": [
    "# creating function to find best model:\n",
    "def find_best_model(X, y, X_test, y_test):\n",
    "    # Creating the global variables that we will use inside and the outside of the function as well:\n",
    "    global y_pred,best_model_name\n",
    "    np.random.seed(42)\n",
    "    models = {\n",
    "        'LogisticRegression': (LogisticRegression(random_state=42), {}),\n",
    "\n",
    "        'SVC': (SVC(random_state=42), {'kernel': ['rbf', 'poly', 'sigmoid'], 'C': [0.1, 1, 10], 'gamma': [1, 0.1, 0.01]}),\n",
    "\n",
    "        'DecisionTreeClassifier': (DecisionTreeClassifier(random_state=42), {'max_depth': [None, 5, 10], 'splitter': ['best', 'random']}),\n",
    "\n",
    "        'RandomForestClassifier': (RandomForestClassifier(random_state=42), {'n_estimators': [10, 100, 1000], 'max_depth': [None, 5, 10]}),\n",
    "\n",
    "        'KNeighborsClassifier': (KNeighborsClassifier(), {'n_neighbors': np.arange(3, 100, 2), 'weights': ['uniform', 'distance']}),\n",
    "\n",
    "        'GradientBoostingClassifier': (GradientBoostingClassifier(random_state=42), {'n_estimators': [10, 100, 1000]}),\n",
    "\n",
    "        'XGBClassifier': (XGBClassifier(random_state=42), {'n_estimators': [10, 100, 1000], 'learning_rate': [0.1, 0.01, 0.001]}),\n",
    "\n",
    "        'AdaBoostClassifier': (AdaBoostClassifier(random_state=42), {'n_estimators': [50, 100, 200], 'learning_rate': [0.1, 0.5, 1]}),\n",
    "    }\n",
    "\n",
    "    best_model_name = None\n",
    "    best_accuracy = 0.0 \n",
    "\n",
    "    for name, (model, params) in models.items():\n",
    "        try:\n",
    "            grid_search = GridSearchCV(model, params, cv=5, scoring='accuracy')\n",
    "            grid_search.fit(X, y)\n",
    "\n",
    "            # You need to evaluate the model on the test set to get accuracy\n",
    "            y_pred = grid_search.best_estimator_.predict(X_test)\n",
    "            accuracy = accuracy_score(y_test, y_pred)\n",
    "\n",
    "            # Print the performance metrics\n",
    "            print(\"Model:\", name)\n",
    "            print(\"Cross-validation Accuracy:\", grid_search.best_score_)\n",
    "            print(\"Test Accuracy:\", accuracy)\n",
    "            print(\"\\n_______________________________________________________________\\n\")\n",
    "\n",
    "            # Check if the current model has the best accuracy\n",
    "            if accuracy > best_accuracy:\n",
    "                best_accuracy = accuracy\n",
    "                best_model_name = name\n",
    "        except Exception as e:\n",
    "            print(f\"Error for model {name}: {e}\")\n",
    "\n",
    "    # Retrieve the best model\n",
    "    print(\"Best Model:\", best_model_name)\n",
    "    print('Test Accuracy of the Best Model:', (best_accuracy)*100)"
   ]
  },
  {
   "cell_type": "code",
   "execution_count": null,
   "metadata": {},
   "outputs": [
    {
     "name": "stdout",
     "output_type": "stream",
     "text": [
      "Model: LogisticRegression\n",
      "Cross-validation Accuracy: 0.5891156462585034\n",
      "Test Accuracy: 0.625\n",
      "\n",
      "_______________________________________________________________\n",
      "\n",
      "Model: SVC\n",
      "Cross-validation Accuracy: 0.6258503401360545\n",
      "Test Accuracy: 0.6358695652173914\n",
      "\n",
      "_______________________________________________________________\n",
      "\n",
      "Model: DecisionTreeClassifier\n",
      "Cross-validation Accuracy: 0.5891156462585034\n",
      "Test Accuracy: 0.6304347826086957\n",
      "\n",
      "_______________________________________________________________\n",
      "\n",
      "Model: RandomForestClassifier\n",
      "Cross-validation Accuracy: 0.6489795918367347\n",
      "Test Accuracy: 0.6413043478260869\n",
      "\n",
      "_______________________________________________________________\n",
      "\n",
      "Model: KNeighborsClassifier\n",
      "Cross-validation Accuracy: 0.6353741496598639\n",
      "Test Accuracy: 0.6358695652173914\n",
      "\n",
      "_______________________________________________________________\n",
      "\n"
     ]
    }
   ],
   "source": [
    "%%time\n",
    "\n",
    "# Calling function: \n",
    "find_best_model(x_train, y_train, x_test, y_test)"
   ]
  },
  {
   "cell_type": "markdown",
   "metadata": {},
   "source": [
    "### 9.4 Confusion Matrix"
   ]
  },
  {
   "cell_type": "code",
   "execution_count": null,
   "metadata": {},
   "outputs": [
    {
     "data": {
      "image/png": "[encoded data removed]",
      "text/plain": [
       "<Figure size 1000x1000 with 1 Axes>"
      ]
     },
     "metadata": {},
     "output_type": "display_data"
    }
   ],
   "source": [
    "# Plotting the confusion matrix\n",
    "\n",
    "plt.figure(figsize=(10, 10))\n",
    "\n",
    "sns.heatmap(confusion_matrix(y_pred, y_test), cmap = 'Blues', annot=True, cbar=False)\n",
    "plt.xlabel(\"Original\")\n",
    "plt.ylabel(\"Predicted\")\n",
    "plt.title(\"Confusion Matrix\")\n",
    "plt.show()"
   ]
  },
  {
   "cell_type": "markdown",
   "metadata": {},
   "source": [
    "<!DOCTYPE html>\n",
    "<html>\n",
    "<head>\n",
    "    <style>\n",
    "        .chapter-heading {\n",
    "            background: linear-gradient(45deg, #333 25%, transparent 25%, transparent 75%, #333 75%, #333);\n",
    "            color: #FFC8C2;\n",
    "            padding: 10px;\n",
    "            border-radius: 5px;\n",
    "            box-shadow: 0 2px 4px rgba(0, 0, 0, 0.2);\n",
    "            text-align: center;\n",
    "            font-size: 18px;\n",
    "            font-weight: bold;\n",
    "            margin-bottom: 10px;\n",
    "            /* Improved text visibility */\n",
    "            text-shadow: 2px 2px 4px rgba(0, 0, 0, 0.5); /* Adjust shadow as needed */\n",
    "        }\n",
    "    </style>\n",
    "</head>\n",
    "<body>\n",
    "    <div class=\"chapter-heading\">\n",
    "        <h1>Chapter 10: Conclusion</h1>\n",
    "    </div>\n",
    "</body>\n",
    "</html>\n"
   ]
  },
  {
   "cell_type": "markdown",
   "metadata": {},
   "source": [
    "- A comparative analysis of nine machine learning algorithms was conducted to predict heart disease. Results indicate that the Decision Tree Classifier exhibited superior performance, achieving an accuracy of `91.30%`. This model will serve as the foundation for further development and refinement in heart disease prediction."
   ]
  }
 ],
 "metadata": {
  "kernelspec": {
   "display_name": "Python 3",
   "language": "python",
   "name": "python3"
  },
  "language_info": {
   "name": "python",
   "version": "3.13.1"
  }
 },
 "nbformat": 4,
 "nbformat_minor": 2
}
