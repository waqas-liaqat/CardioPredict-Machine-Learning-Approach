{
 "cells": [
  {
   "cell_type": "markdown",
   "metadata": {},
   "source": [
    "<!DOCTYPE html>\n",
    "<html>\n",
    "<head>\n",
    "    <style>\n",
    "        .chapter-heading {\n",
    "            background: linear-gradient(45deg, #333 25%, transparent 25%, transparent 75%, #333 75%, #333);\n",
    "            color: #FFC8C2;\n",
    "            padding: 10px;\n",
    "            border-radius: 5px;\n",
    "            box-shadow: 0 2px 4px rgba(0, 0, 0, 0.2);\n",
    "            text-align: center;\n",
    "            font-size: 18px;\n",
    "            font-weight: bold;\n",
    "            margin-bottom: 10px;\n",
    "            /* Improved text visibility */\n",
    "            text-shadow: 2px 2px 4px rgba(0, 0, 0, 0.5); /* Adjust shadow as needed */\n",
    "        }\n",
    "    </style>\n",
    "</head>\n",
    "<body>\n",
    "    <div class=\"chapter-heading\">\n",
    "        <h1>Heart Disease Prediction Model Development</h1>\n",
    "    </div>\n",
    "</body>\n",
    "</html>\n"
   ]
  },
  {
   "cell_type": "markdown",
   "metadata": {},
   "source": [
    "<!DOCTYPE html>\n",
    "<html>\n",
    "<head>\n",
    "    <style>\n",
    "        .chapter-heading {\n",
    "            background: linear-gradient(45deg, #333 25%, transparent 25%, transparent 75%, #333 75%, #333);\n",
    "            color: #FFC8C2;\n",
    "            padding: 10px;\n",
    "            border-radius: 5px;\n",
    "            box-shadow: 0 2px 4px rgba(0, 0, 0, 0.2);\n",
    "            text-align: center;\n",
    "            font-size: 18px;\n",
    "            font-weight: bold;\n",
    "            margin-bottom: 10px;\n",
    "            /* Improved text visibility */\n",
    "            text-shadow: 2px 2px 4px rgba(0, 0, 0, 0.5); /* Adjust shadow as needed */\n",
    "        }\n",
    "    </style>\n",
    "</head>\n",
    "<body>\n",
    "    <div class=\"chapter-heading\">\n",
    "        <h1>About Author</h1>\n",
    "    </div>\n",
    "</body>\n",
    "</html>\n"
   ]
  },
  {
   "cell_type": "markdown",
   "metadata": {},
   "source": [
    "- Project: Heart Disease Prediction\n",
    "- Author: Muhammad Waqas\n",
    "- Author's Contact Info: \n",
    "    - **Email:** waqasliaqat630@gmailcom\n",
    "    - [Linkedin](https://www.linkedin.com/in/muhammad-waqas-liaqat/)\n",
    "    - [Github](https://github.com/waqas-liaqat)\n",
    "    - [kaggle](https://www.kaggle.com/muhammadwaqas630)"
   ]
  },
  {
   "cell_type": "markdown",
   "metadata": {},
   "source": [
    "<!DOCTYPE html>\n",
    "<html>\n",
    "<head>\n",
    "    <style>\n",
    "        .chapter-heading {\n",
    "            background: linear-gradient(45deg, #333 25%, transparent 25%, transparent 75%, #333 75%, #333);\n",
    "            color: #FFC8C2;\n",
    "            padding: 10px;\n",
    "            border-radius: 5px;\n",
    "            box-shadow: 0 2px 4px rgba(0, 0, 0, 0.2);\n",
    "            text-align: center;\n",
    "            font-size: 18px;\n",
    "            font-weight: bold;\n",
    "            margin-bottom: 10px;\n",
    "            /* Improved text visibility */\n",
    "            text-shadow: 2px 2px 4px rgba(0, 0, 0, 0.5); /* Adjust shadow as needed */\n",
    "        }\n",
    "    </style>\n",
    "</head>\n",
    "<body>\n",
    "    <div class=\"chapter-heading\">\n",
    "        <h1>Meta-Data of Dataset</h1>\n",
    "    </div>\n",
    "</body>\n",
    "</html>\n"
   ]
  },
  {
   "cell_type": "markdown",
   "metadata": {},
   "source": [
    "`Date:` 09-07-2024\\\n",
    "`Dataset:` Heart Disease UCI\n",
    "### Context\n",
    "This is a multivariate type of dataset which means providing or involving a variety of separate mathematical or statistical variables, multivariate numerical data analysis. It is composed of 14 attributes which are age, sex, chest pain type, resting blood pressure, serum cholesterol, fasting blood sugar, resting electrocardiographic results, maximum heart rate achieved, exercise-induced angina, oldpeak — ST depression induced by exercise relative to rest, the slope of the peak exercise ST segment, number of major vessels and Thalassemia. This database includes 76 attributes, but all published studies relate to the use of a subset of 14 of them. The Cleveland database is the only one used by ML researchers to date. One of the major tasks on this dataset is to predict based on the given attributes of a patient that whether that particular person has heart disease or not and other is the experimental task to diagnose and find out various insights from this dataset which could help in understanding the problem more.\n",
    "\n",
    "### Column Descriptions:\n",
    "* `id` (Unique id for each patient)\n",
    "* `age` (Age of the patient in years)\n",
    "* `origin` (place of study)\n",
    "* `sex` (Male/Female)\n",
    "* `cp` chest pain type ([typical angina, atypical angina, non-anginal, asymptomatic])\n",
    "* `trestbps` resting blood pressure (resting blood pressure (in mm Hg on admission to the hospital))\n",
    "* `chol` (serum cholesterol in mg/dl)\n",
    "* `fbs` (if fasting blood sugar > 120 mg/dl)\n",
    "* `restecg` (resting electrocardiographic results)\n",
    "* `-- Values`: [normal, stt abnormality, lv hypertrophy]\n",
    "* `thalach`: maximum heart rate achieved\n",
    "* `exang`: exercise-induced angina (True/ False)\n",
    "* `oldpeak`: ST depression induced by exercise relative to rest\n",
    "* `slope`: the slope of the peak exercise ST segment\n",
    "* `ca`: number of major vessels (0-3) colored by fluoroscopy\n",
    "* `thal`: [normal; fixed defect; reversible defect]\n",
    "* `num`: the predicted attribute\n",
    "### Acknowledgements\n",
    "#### Creators:\n",
    "* Hungarian Institute of Cardiology. Budapest: Andras Janosi, M.D.\n",
    "* University Hospital, Zurich, Switzerland: William Steinbrunn, M.D.\n",
    "* University Hospital, Basel, Switzerland: Matthias Pfisterer, M.D.\n",
    "* V.A. Medical Center, Long Beach and Cleveland Clinic Foundation: Robert Detrano, M.D., Ph.D.\n",
    "#### Relevant Papers:\n",
    "* Detrano, R., Janosi, A., Steinbrunn, W., Pfisterer, M., Schmid, J., Sandhu, S., Guppy, K., Lee, S., & Froelicher, V. (1989). International application of a new probability algorithm for the diagnosis of coronary artery disease. American Journal of Cardiology, 64,304--310.\n",
    "*  David W. Aha & Dennis Kibler. \"Instance-based prediction of heart-disease presence with the Cleveland database.\" \n",
    "* Gennari, J.H., Langley, P, & Fisher, D. (1989). Models of incremental concept formation. Artificial Intelligence, 40, 11--61. \n",
    "  \n",
    "**Citation Request:**\n",
    "The authors of the databases have requested that any publications resulting from the use of the data include the names of the principal investigator responsible for the data collection at each institution. They would be:\n",
    "\n",
    "* Hungarian Institute of Cardiology. Budapest: Andras Janosi, M.D.\n",
    "* University Hospital, Zurich, Switzerland: William Steinbrunn, M.D.\n",
    "* University Hospital, Basel, Switzerland: Matthias Pfisterer, M.D.\n",
    "* V.A. Medical Center, Long Beach and Cleveland Clinic Foundation:Robert Detrano, M.D., Ph.D."
   ]
  },
  {
   "cell_type": "markdown",
   "metadata": {},
   "source": [
    "\n",
    "<!DOCTYPE html>\n",
    "<html>\n",
    "<head>\n",
    "    <style>\n",
    "        .chapter-heading {\n",
    "            background: linear-gradient(45deg, #333 25%, transparent 25%, transparent 75%, #333 75%, #333);\n",
    "            color: #FFC8C2;\n",
    "            padding: 10px;\n",
    "            border-radius: 5px;\n",
    "            box-shadow: 0 2px 4px rgba(0, 0, 0, 0.2);\n",
    "            text-align: center;\n",
    "            font-size: 18px;\n",
    "            font-weight: bold;\n",
    "            margin-bottom: 10px;\n",
    "            /* Improved text visibility */\n",
    "            text-shadow: 2px 2px 4px rgba(0, 0, 0, 0.5); /* Adjust shadow as needed */\n",
    "        }\n",
    "    </style>\n",
    "</head>\n",
    "<body>\n",
    "    <div class=\"chapter-heading\">\n",
    "        <h1>Objective</h1>\n",
    "    </div>\n",
    "</body>\n",
    "</html>\n",
    "\n",
    "    To find best model with best parameters with more accuracy.\n",
    "\n"
   ]
  },
  {
   "cell_type": "markdown",
   "metadata": {},
   "source": [
    "**Goal:** Predict the presence and severity of heart disease (num column) based on patient data.\\\n",
    "**Target Variable:** num (categorical: 0, 1, 2, 3, 4 indicating severity levels).\\\n",
    "**Type of Problem:** Multiclass classification"
   ]
  },
  {
   "cell_type": "markdown",
   "metadata": {},
   "source": [
    "- Let's start with chapter 01."
   ]
  },
  {
   "cell_type": "markdown",
   "metadata": {},
   "source": [
    "<!DOCTYPE html>\n",
    "<html>\n",
    "<head>\n",
    "    <style>\n",
    "        .chapter-heading {\n",
    "            background: linear-gradient(45deg, #333 25%, transparent 25%, transparent 75%, #333 75%, #333);\n",
    "            color: #FFC8C2;\n",
    "            padding: 10px;\n",
    "            border-radius: 5px;\n",
    "            box-shadow: 0 2px 4px rgba(0, 0, 0, 0.2);\n",
    "            text-align: center;\n",
    "            font-size: 18px;\n",
    "            font-weight: bold;\n",
    "            margin-bottom: 10px;\n",
    "            /* Improved text visibility */\n",
    "            text-shadow: 2px 2px 4px rgba(0, 0, 0, 0.5); /* Adjust shadow as needed */\n",
    "        }\n",
    "    </style>\n",
    "</head>\n",
    "<body>\n",
    "    <div class=\"chapter-heading\">\n",
    "        <h1>Chapter 1: Import Libraries</h1>\n",
    "    </div>\n",
    "</body>\n",
    "</html>\n"
   ]
  },
  {
   "cell_type": "code",
   "execution_count": 1,
   "metadata": {},
   "outputs": [],
   "source": [
    "# Data handling\n",
    "import pandas as pd\n",
    "import numpy as np\n",
    "\n",
    "# Visualization\n",
    "import seaborn as sns\n",
    "import matplotlib.pyplot as plt\n",
    "\n",
    "# Preprocessing\n",
    "from sklearn.preprocessing import MinMaxScaler, LabelEncoder\n",
    "from sklearn.model_selection import train_test_split\n",
    "\n",
    "# Models\n",
    "from sklearn.linear_model import LogisticRegression\n",
    "from sklearn.tree import DecisionTreeClassifier\n",
    "from sklearn.ensemble import RandomForestClassifier, GradientBoostingClassifier, AdaBoostClassifier\n",
    "from sklearn.svm import SVC\n",
    "from sklearn.neighbors import KNeighborsClassifier\n",
    "from xgboost import XGBClassifier\n",
    "\n",
    "# Metrics and tuning\n",
    "from sklearn.metrics import accuracy_score, confusion_matrix, classification_report, roc_auc_score, roc_curve\n",
    "from sklearn.model_selection import GridSearchCV\n",
    "\n",
    "# Handle imbalanced data\n",
    "from imblearn.combine import SMOTEENN\n",
    "\n",
    "# Warnings\n",
    "import warnings\n",
    "warnings.filterwarnings(\"ignore\")"
   ]
  },
  {
   "cell_type": "markdown",
   "metadata": {},
   "source": [
    "<!DOCTYPE html>\n",
    "<html>\n",
    "<head>\n",
    "    <style>\n",
    "        .chapter-heading {\n",
    "            background: linear-gradient(45deg, #333 25%, transparent 25%, transparent 75%, #333 75%, #333);\n",
    "            color: #FFC8C2;\n",
    "            padding: 10px;\n",
    "            border-radius: 5px;\n",
    "            box-shadow: 0 2px 4px rgba(0, 0, 0, 0.2);\n",
    "            text-align: center;\n",
    "            font-size: 18px;\n",
    "            font-weight: bold;\n",
    "            margin-bottom: 10px;\n",
    "            /* Improved text visibility */\n",
    "            text-shadow: 2px 2px 4px rgba(0, 0, 0, 0.5); /* Adjust shadow as needed */\n",
    "        }\n",
    "    </style>\n",
    "</head>\n",
    "<body>\n",
    "    <div class=\"chapter-heading\">\n",
    "        <h1>Chapter 2: Load Dataset</h1>\n",
    "    </div>\n",
    "</body>\n",
    "</html>\n"
   ]
  },
  {
   "cell_type": "code",
   "execution_count": 2,
   "metadata": {},
   "outputs": [
    {
     "data": {
      "text/html": [
       "<div>\n",
       "<style scoped>\n",
       "    .dataframe tbody tr th:only-of-type {\n",
       "        vertical-align: middle;\n",
       "    }\n",
       "\n",
       "    .dataframe tbody tr th {\n",
       "        vertical-align: top;\n",
       "    }\n",
       "\n",
       "    .dataframe thead th {\n",
       "        text-align: right;\n",
       "    }\n",
       "</style>\n",
       "<table border=\"1\" class=\"dataframe\">\n",
       "  <thead>\n",
       "    <tr style=\"text-align: right;\">\n",
       "      <th></th>\n",
       "      <th>age</th>\n",
       "      <th>sex</th>\n",
       "      <th>dataset</th>\n",
       "      <th>cp</th>\n",
       "      <th>trestbps</th>\n",
       "      <th>chol</th>\n",
       "      <th>fbs</th>\n",
       "      <th>restecg</th>\n",
       "      <th>thalch</th>\n",
       "      <th>exang</th>\n",
       "      <th>oldpeak</th>\n",
       "      <th>slope</th>\n",
       "      <th>ca</th>\n",
       "      <th>thal</th>\n",
       "      <th>num</th>\n",
       "      <th>stress_level</th>\n",
       "    </tr>\n",
       "  </thead>\n",
       "  <tbody>\n",
       "    <tr>\n",
       "      <th>0</th>\n",
       "      <td>63</td>\n",
       "      <td>Male</td>\n",
       "      <td>Cleveland</td>\n",
       "      <td>typical angina</td>\n",
       "      <td>145.0</td>\n",
       "      <td>233.0</td>\n",
       "      <td>True</td>\n",
       "      <td>lv hypertrophy</td>\n",
       "      <td>150.0</td>\n",
       "      <td>False</td>\n",
       "      <td>2.3</td>\n",
       "      <td>downsloping</td>\n",
       "      <td>0.0</td>\n",
       "      <td>fixed defect</td>\n",
       "      <td>0</td>\n",
       "      <td>typical angina_high</td>\n",
       "    </tr>\n",
       "    <tr>\n",
       "      <th>1</th>\n",
       "      <td>67</td>\n",
       "      <td>Male</td>\n",
       "      <td>Cleveland</td>\n",
       "      <td>asymptomatic</td>\n",
       "      <td>160.0</td>\n",
       "      <td>286.0</td>\n",
       "      <td>False</td>\n",
       "      <td>lv hypertrophy</td>\n",
       "      <td>108.0</td>\n",
       "      <td>True</td>\n",
       "      <td>1.5</td>\n",
       "      <td>flat</td>\n",
       "      <td>3.0</td>\n",
       "      <td>normal</td>\n",
       "      <td>2</td>\n",
       "      <td>asymptomatic_high</td>\n",
       "    </tr>\n",
       "    <tr>\n",
       "      <th>2</th>\n",
       "      <td>67</td>\n",
       "      <td>Male</td>\n",
       "      <td>Cleveland</td>\n",
       "      <td>asymptomatic</td>\n",
       "      <td>120.0</td>\n",
       "      <td>229.0</td>\n",
       "      <td>False</td>\n",
       "      <td>lv hypertrophy</td>\n",
       "      <td>129.0</td>\n",
       "      <td>True</td>\n",
       "      <td>2.6</td>\n",
       "      <td>flat</td>\n",
       "      <td>2.0</td>\n",
       "      <td>reversable defect</td>\n",
       "      <td>1</td>\n",
       "      <td>asymptomatic_low</td>\n",
       "    </tr>\n",
       "    <tr>\n",
       "      <th>3</th>\n",
       "      <td>37</td>\n",
       "      <td>Male</td>\n",
       "      <td>Cleveland</td>\n",
       "      <td>non-anginal</td>\n",
       "      <td>130.0</td>\n",
       "      <td>250.0</td>\n",
       "      <td>False</td>\n",
       "      <td>normal</td>\n",
       "      <td>187.0</td>\n",
       "      <td>False</td>\n",
       "      <td>3.5</td>\n",
       "      <td>downsloping</td>\n",
       "      <td>0.0</td>\n",
       "      <td>normal</td>\n",
       "      <td>0</td>\n",
       "      <td>non-anginal_medium</td>\n",
       "    </tr>\n",
       "    <tr>\n",
       "      <th>4</th>\n",
       "      <td>41</td>\n",
       "      <td>Female</td>\n",
       "      <td>Cleveland</td>\n",
       "      <td>atypical angina</td>\n",
       "      <td>130.0</td>\n",
       "      <td>204.0</td>\n",
       "      <td>False</td>\n",
       "      <td>lv hypertrophy</td>\n",
       "      <td>172.0</td>\n",
       "      <td>False</td>\n",
       "      <td>1.4</td>\n",
       "      <td>upsloping</td>\n",
       "      <td>0.0</td>\n",
       "      <td>normal</td>\n",
       "      <td>0</td>\n",
       "      <td>atypical angina_medium</td>\n",
       "    </tr>\n",
       "  </tbody>\n",
       "</table>\n",
       "</div>"
      ],
      "text/plain": [
       "   age     sex    dataset               cp  trestbps   chol    fbs  \\\n",
       "0   63    Male  Cleveland   typical angina     145.0  233.0   True   \n",
       "1   67    Male  Cleveland     asymptomatic     160.0  286.0  False   \n",
       "2   67    Male  Cleveland     asymptomatic     120.0  229.0  False   \n",
       "3   37    Male  Cleveland      non-anginal     130.0  250.0  False   \n",
       "4   41  Female  Cleveland  atypical angina     130.0  204.0  False   \n",
       "\n",
       "          restecg  thalch  exang  oldpeak        slope   ca  \\\n",
       "0  lv hypertrophy   150.0  False      2.3  downsloping  0.0   \n",
       "1  lv hypertrophy   108.0   True      1.5         flat  3.0   \n",
       "2  lv hypertrophy   129.0   True      2.6         flat  2.0   \n",
       "3          normal   187.0  False      3.5  downsloping  0.0   \n",
       "4  lv hypertrophy   172.0  False      1.4    upsloping  0.0   \n",
       "\n",
       "                thal  num            stress_level  \n",
       "0       fixed defect    0     typical angina_high  \n",
       "1             normal    2       asymptomatic_high  \n",
       "2  reversable defect    1        asymptomatic_low  \n",
       "3             normal    0      non-anginal_medium  \n",
       "4             normal    0  atypical angina_medium  "
      ]
     },
     "execution_count": 2,
     "metadata": {},
     "output_type": "execute_result"
    }
   ],
   "source": [
    "df=pd.read_csv('data/Cleaned_df.csv')\n",
    "# show first 5 rows\n",
    "df.head()"
   ]
  },
  {
   "cell_type": "code",
   "execution_count": 3,
   "metadata": {},
   "outputs": [
    {
     "name": "stdout",
     "output_type": "stream",
     "text": [
      "<class 'pandas.core.frame.DataFrame'>\n",
      "RangeIndex: 919 entries, 0 to 918\n",
      "Data columns (total 16 columns):\n",
      " #   Column        Non-Null Count  Dtype  \n",
      "---  ------        --------------  -----  \n",
      " 0   age           919 non-null    int64  \n",
      " 1   sex           919 non-null    object \n",
      " 2   dataset       919 non-null    object \n",
      " 3   cp            919 non-null    object \n",
      " 4   trestbps      919 non-null    float64\n",
      " 5   chol          919 non-null    float64\n",
      " 6   fbs           919 non-null    bool   \n",
      " 7   restecg       919 non-null    object \n",
      " 8   thalch        919 non-null    float64\n",
      " 9   exang         919 non-null    bool   \n",
      " 10  oldpeak       919 non-null    float64\n",
      " 11  slope         919 non-null    object \n",
      " 12  ca            919 non-null    float64\n",
      " 13  thal          919 non-null    object \n",
      " 14  num           919 non-null    int64  \n",
      " 15  stress_level  919 non-null    object \n",
      "dtypes: bool(2), float64(5), int64(2), object(7)\n",
      "memory usage: 102.4+ KB\n"
     ]
    }
   ],
   "source": [
    "df.info()"
   ]
  },
  {
   "cell_type": "markdown",
   "metadata": {},
   "source": [
    "<html>\n",
    "<head>\n",
    "    <style>\n",
    "        .chapter-heading {\n",
    "            background: linear-gradient(45deg, #333 25%, transparent 25%, transparent 75%, #333 75%, #333);\n",
    "            color: #FFC8C2;\n",
    "            padding: 10px;\n",
    "            border-radius: 5px;\n",
    "            box-shadow: 0 2px 4px rgba(0, 0, 0, 0.2);\n",
    "            text-align: center;\n",
    "            font-size: 18px;\n",
    "            font-weight: bold;\n",
    "            margin-bottom: 10px;\n",
    "            /* Improved text visibility */\n",
    "            text-shadow: 2px 2px 4px rgba(0, 0, 0, 0.5); /* Adjust shadow as needed */\n",
    "        }\n",
    "    </style>\n",
    "</head>\n",
    "<body>\n",
    "    <div class=\"chapter-heading\">\n",
    "        <h1>Chapter 3: Data Preprocessing</h1>\n",
    "    </div>\n",
    "</body>\n",
    "</html>\n"
   ]
  },
  {
   "cell_type": "markdown",
   "metadata": {},
   "source": [
    "## 3.1 Splitting the data"
   ]
  },
  {
   "cell_type": "code",
   "execution_count": 4,
   "metadata": {},
   "outputs": [],
   "source": [
    "# Let's split the data into Features (x) and Labels (y)\n",
    "x = df.drop(['num'], axis = 1)\n",
    "y = df['num']"
   ]
  },
  {
   "cell_type": "markdown",
   "metadata": {},
   "source": [
    "## 3.2 Train-Test Split"
   ]
  },
  {
   "cell_type": "code",
   "execution_count": 5,
   "metadata": {},
   "outputs": [],
   "source": [
    "# Train-Test Split\n",
    "x_train, x_test, y_train, y_test = train_test_split(x, y, test_size = 0.2, random_state = 42)"
   ]
  },
  {
   "cell_type": "code",
   "execution_count": 6,
   "metadata": {},
   "outputs": [
    {
     "data": {
      "text/plain": [
       "num\n",
       "0    82\n",
       "1    58\n",
       "3    20\n",
       "2    17\n",
       "4     7\n",
       "Name: count, dtype: int64"
      ]
     },
     "execution_count": 6,
     "metadata": {},
     "output_type": "execute_result"
    }
   ],
   "source": [
    "y_test.value_counts()"
   ]
  },
  {
   "cell_type": "markdown",
   "metadata": {},
   "source": [
    "- It is highly imbalanced and need to be balanced."
   ]
  },
  {
   "cell_type": "markdown",
   "metadata": {},
   "source": [
    "## 3.3 Label Encoding and Scalling"
   ]
  },
  {
   "cell_type": "code",
   "execution_count": 7,
   "metadata": {},
   "outputs": [],
   "source": [
    "# Identify categorical and numerical columns\n",
    "cat_cols = x.select_dtypes(include=['object', 'bool']).columns\n",
    "num_cols = x.select_dtypes(include=['int64', 'float64']).columns"
   ]
  },
  {
   "cell_type": "code",
   "execution_count": 8,
   "metadata": {},
   "outputs": [
    {
     "data": {
      "text/html": [
       "<div>\n",
       "<style scoped>\n",
       "    .dataframe tbody tr th:only-of-type {\n",
       "        vertical-align: middle;\n",
       "    }\n",
       "\n",
       "    .dataframe tbody tr th {\n",
       "        vertical-align: top;\n",
       "    }\n",
       "\n",
       "    .dataframe thead th {\n",
       "        text-align: right;\n",
       "    }\n",
       "</style>\n",
       "<table border=\"1\" class=\"dataframe\">\n",
       "  <thead>\n",
       "    <tr style=\"text-align: right;\">\n",
       "      <th></th>\n",
       "      <th>age</th>\n",
       "      <th>trestbps</th>\n",
       "      <th>chol</th>\n",
       "      <th>thalch</th>\n",
       "      <th>oldpeak</th>\n",
       "      <th>ca</th>\n",
       "    </tr>\n",
       "  </thead>\n",
       "  <tbody>\n",
       "    <tr>\n",
       "      <th>0</th>\n",
       "      <td>63</td>\n",
       "      <td>145.0</td>\n",
       "      <td>233.0</td>\n",
       "      <td>150.0</td>\n",
       "      <td>2.3</td>\n",
       "      <td>0.0</td>\n",
       "    </tr>\n",
       "    <tr>\n",
       "      <th>1</th>\n",
       "      <td>67</td>\n",
       "      <td>160.0</td>\n",
       "      <td>286.0</td>\n",
       "      <td>108.0</td>\n",
       "      <td>1.5</td>\n",
       "      <td>3.0</td>\n",
       "    </tr>\n",
       "    <tr>\n",
       "      <th>2</th>\n",
       "      <td>67</td>\n",
       "      <td>120.0</td>\n",
       "      <td>229.0</td>\n",
       "      <td>129.0</td>\n",
       "      <td>2.6</td>\n",
       "      <td>2.0</td>\n",
       "    </tr>\n",
       "    <tr>\n",
       "      <th>3</th>\n",
       "      <td>37</td>\n",
       "      <td>130.0</td>\n",
       "      <td>250.0</td>\n",
       "      <td>187.0</td>\n",
       "      <td>3.5</td>\n",
       "      <td>0.0</td>\n",
       "    </tr>\n",
       "    <tr>\n",
       "      <th>4</th>\n",
       "      <td>41</td>\n",
       "      <td>130.0</td>\n",
       "      <td>204.0</td>\n",
       "      <td>172.0</td>\n",
       "      <td>1.4</td>\n",
       "      <td>0.0</td>\n",
       "    </tr>\n",
       "  </tbody>\n",
       "</table>\n",
       "</div>"
      ],
      "text/plain": [
       "   age  trestbps   chol  thalch  oldpeak   ca\n",
       "0   63     145.0  233.0   150.0      2.3  0.0\n",
       "1   67     160.0  286.0   108.0      1.5  3.0\n",
       "2   67     120.0  229.0   129.0      2.6  2.0\n",
       "3   37     130.0  250.0   187.0      3.5  0.0\n",
       "4   41     130.0  204.0   172.0      1.4  0.0"
      ]
     },
     "execution_count": 8,
     "metadata": {},
     "output_type": "execute_result"
    }
   ],
   "source": [
    "# Num columns\n",
    "df[num_cols].head()"
   ]
  },
  {
   "cell_type": "code",
   "execution_count": 9,
   "metadata": {},
   "outputs": [
    {
     "data": {
      "text/html": [
       "<div>\n",
       "<style scoped>\n",
       "    .dataframe tbody tr th:only-of-type {\n",
       "        vertical-align: middle;\n",
       "    }\n",
       "\n",
       "    .dataframe tbody tr th {\n",
       "        vertical-align: top;\n",
       "    }\n",
       "\n",
       "    .dataframe thead th {\n",
       "        text-align: right;\n",
       "    }\n",
       "</style>\n",
       "<table border=\"1\" class=\"dataframe\">\n",
       "  <thead>\n",
       "    <tr style=\"text-align: right;\">\n",
       "      <th></th>\n",
       "      <th>sex</th>\n",
       "      <th>dataset</th>\n",
       "      <th>cp</th>\n",
       "      <th>fbs</th>\n",
       "      <th>restecg</th>\n",
       "      <th>exang</th>\n",
       "      <th>slope</th>\n",
       "      <th>thal</th>\n",
       "      <th>stress_level</th>\n",
       "    </tr>\n",
       "  </thead>\n",
       "  <tbody>\n",
       "    <tr>\n",
       "      <th>0</th>\n",
       "      <td>Male</td>\n",
       "      <td>Cleveland</td>\n",
       "      <td>typical angina</td>\n",
       "      <td>True</td>\n",
       "      <td>lv hypertrophy</td>\n",
       "      <td>False</td>\n",
       "      <td>downsloping</td>\n",
       "      <td>fixed defect</td>\n",
       "      <td>typical angina_high</td>\n",
       "    </tr>\n",
       "    <tr>\n",
       "      <th>1</th>\n",
       "      <td>Male</td>\n",
       "      <td>Cleveland</td>\n",
       "      <td>asymptomatic</td>\n",
       "      <td>False</td>\n",
       "      <td>lv hypertrophy</td>\n",
       "      <td>True</td>\n",
       "      <td>flat</td>\n",
       "      <td>normal</td>\n",
       "      <td>asymptomatic_high</td>\n",
       "    </tr>\n",
       "    <tr>\n",
       "      <th>2</th>\n",
       "      <td>Male</td>\n",
       "      <td>Cleveland</td>\n",
       "      <td>asymptomatic</td>\n",
       "      <td>False</td>\n",
       "      <td>lv hypertrophy</td>\n",
       "      <td>True</td>\n",
       "      <td>flat</td>\n",
       "      <td>reversable defect</td>\n",
       "      <td>asymptomatic_low</td>\n",
       "    </tr>\n",
       "    <tr>\n",
       "      <th>3</th>\n",
       "      <td>Male</td>\n",
       "      <td>Cleveland</td>\n",
       "      <td>non-anginal</td>\n",
       "      <td>False</td>\n",
       "      <td>normal</td>\n",
       "      <td>False</td>\n",
       "      <td>downsloping</td>\n",
       "      <td>normal</td>\n",
       "      <td>non-anginal_medium</td>\n",
       "    </tr>\n",
       "    <tr>\n",
       "      <th>4</th>\n",
       "      <td>Female</td>\n",
       "      <td>Cleveland</td>\n",
       "      <td>atypical angina</td>\n",
       "      <td>False</td>\n",
       "      <td>lv hypertrophy</td>\n",
       "      <td>False</td>\n",
       "      <td>upsloping</td>\n",
       "      <td>normal</td>\n",
       "      <td>atypical angina_medium</td>\n",
       "    </tr>\n",
       "  </tbody>\n",
       "</table>\n",
       "</div>"
      ],
      "text/plain": [
       "      sex    dataset               cp    fbs         restecg  exang  \\\n",
       "0    Male  Cleveland   typical angina   True  lv hypertrophy  False   \n",
       "1    Male  Cleveland     asymptomatic  False  lv hypertrophy   True   \n",
       "2    Male  Cleveland     asymptomatic  False  lv hypertrophy   True   \n",
       "3    Male  Cleveland      non-anginal  False          normal  False   \n",
       "4  Female  Cleveland  atypical angina  False  lv hypertrophy  False   \n",
       "\n",
       "         slope               thal            stress_level  \n",
       "0  downsloping       fixed defect     typical angina_high  \n",
       "1         flat             normal       asymptomatic_high  \n",
       "2         flat  reversable defect        asymptomatic_low  \n",
       "3  downsloping             normal      non-anginal_medium  \n",
       "4    upsloping             normal  atypical angina_medium  "
      ]
     },
     "execution_count": 9,
     "metadata": {},
     "output_type": "execute_result"
    }
   ],
   "source": [
    "# Cat Columns\n",
    "df[cat_cols].head()"
   ]
  },
  {
   "cell_type": "code",
   "execution_count": 10,
   "metadata": {},
   "outputs": [],
   "source": [
    "for col in cat_cols:\n",
    "    encoder = LabelEncoder()\n",
    "    x_train[col] = encoder.fit_transform(x_train[col])\n",
    "    x_test[col] = encoder.transform(x_test[col])\n",
    "\n",
    "# Scale numerical features\n",
    "scaler = MinMaxScaler()\n",
    "x_train[num_cols] = scaler.fit_transform(x_train[num_cols])\n",
    "x_test[num_cols] = scaler.transform(x_test[num_cols])"
   ]
  },
  {
   "cell_type": "markdown",
   "metadata": {},
   "source": [
    "<html>\n",
    "<head>\n",
    "    <style>\n",
    "        .chapter-heading {\n",
    "            background: linear-gradient(45deg, #333 25%, transparent 25%, transparent 75%, #333 75%, #333);\n",
    "            color: #FFC8C2;\n",
    "            padding: 10px;\n",
    "            border-radius: 5px;\n",
    "            box-shadow: 0 2px 4px rgba(0, 0, 0, 0.2);\n",
    "            text-align: center;\n",
    "            font-size: 18px;\n",
    "            font-weight: bold;\n",
    "            margin-bottom: 10px;\n",
    "            /* Improved text visibility */\n",
    "            text-shadow: 2px 2px 4px rgba(0, 0, 0, 0.5); /* Adjust shadow as needed */\n",
    "        }\n",
    "    </style>\n",
    "</head>\n",
    "<body>\n",
    "    <div class=\"chapter-heading\">\n",
    "        <h1>Chapter 4: Model Training and Hyperparameter Tuning</h1>\n",
    "    </div>\n",
    "</body>\n",
    "</html>\n"
   ]
  },
  {
   "cell_type": "markdown",
   "metadata": {},
   "source": [
    "## 4.1 Evaluating Multiple Models with Hyperparameter Tuning"
   ]
  },
  {
   "cell_type": "code",
   "execution_count": 11,
   "metadata": {},
   "outputs": [],
   "source": [
    "def evaluate_models_with_tuning(X_train, y_train, X_test, y_test):\n",
    "    models = {\n",
    "        'LogisticRegression': (LogisticRegression(random_state=42), {}),\n",
    "        'SVC': (SVC(random_state=42), {'kernel': ['rbf', 'poly', 'sigmoid'], 'C': [0.1, 1, 10], 'gamma': [1, 0.1, 0.01]}),\n",
    "        'DecisionTreeClassifier': (DecisionTreeClassifier(random_state=42), {'max_depth': [None, 5, 10], 'splitter': ['best', 'random']}), \n",
    "        'RandomForestClassifier': (RandomForestClassifier(random_state=42), {'n_estimators': [10, 100, 1000], 'max_depth': [None, 5, 10]}),\n",
    "        'KNeighborsClassifier': (KNeighborsClassifier(), {'n_neighbors': np.arange(3, 30, 2), 'weights': ['uniform', 'distance']}),\n",
    "        'GradientBoostingClassifier': (GradientBoostingClassifier(random_state=42), {'n_estimators': [10, 100, 1000]}),\n",
    "        'XGBClassifier': (\n",
    "            XGBClassifier(random_state=42, objective='multi:softprob', num_class=len(y_train.unique())),\n",
    "            {\n",
    "                'n_estimators': [10, 100, 1000],\n",
    "                'learning_rate': [0.1, 0.01, 0.001],\n",
    "                'max_depth': [3, 6, 9]\n",
    "            }\n",
    "        ),\n",
    "        'AdaBoostClassifier': (AdaBoostClassifier(random_state=42), {'n_estimators': [50, 100, 200], 'learning_rate': [0.1, 0.5, 1]}),\n",
    "    }\n",
    "\n",
    "    results = {}\n",
    "\n",
    "    for name, (model, params) in models.items():\n",
    "        try:\n",
    "            if params:\n",
    "                grid_search = GridSearchCV(model, params, cv=5, scoring='accuracy', n_jobs=-1)\n",
    "                grid_search.fit(X_train, y_train)\n",
    "                best_model = grid_search.best_estimator_\n",
    "                y_pred = best_model.predict(X_test)\n",
    "                accuracy = accuracy_score(y_test, y_pred)\n",
    "                results[name] = (accuracy, grid_search.best_params_)\n",
    "                print(f\"{name}: {accuracy:.4f} with params: {grid_search.best_params_}\")\n",
    "            else:\n",
    "                model.fit(X_train, y_train)\n",
    "                y_pred = model.predict(X_test)\n",
    "                accuracy = accuracy_score(y_test, y_pred)\n",
    "                results[name] = (accuracy, None)\n",
    "                print(f\"{name}: {accuracy:.4f}\")\n",
    "        except Exception as e:\n",
    "            print(f\"Error with model {name}: {e}\")\n",
    "\n",
    "    return results"
   ]
  },
  {
   "cell_type": "code",
   "execution_count": 12,
   "metadata": {},
   "outputs": [
    {
     "name": "stdout",
     "output_type": "stream",
     "text": [
      "LogisticRegression: 0.6304\n",
      "SVC: 0.5761 with params: {'C': 1, 'gamma': 1, 'kernel': 'rbf'}\n",
      "DecisionTreeClassifier: 0.6304 with params: {'max_depth': 5, 'splitter': 'best'}\n",
      "RandomForestClassifier: 0.6250 with params: {'max_depth': 10, 'n_estimators': 1000}\n",
      "KNeighborsClassifier: 0.5543 with params: {'n_neighbors': 7, 'weights': 'distance'}\n",
      "GradientBoostingClassifier: 0.6141 with params: {'n_estimators': 100}\n",
      "Error with model XGBClassifier: 'super' object has no attribute '__sklearn_tags__'\n",
      "AdaBoostClassifier: 0.6685 with params: {'learning_rate': 0.1, 'n_estimators': 200}\n"
     ]
    }
   ],
   "source": [
    "\n",
    "# Evaluate models\n",
    "model_results = evaluate_models_with_tuning(x_train, y_train, x_test, y_test)"
   ]
  },
  {
   "cell_type": "code",
   "execution_count": 13,
   "metadata": {},
   "outputs": [
    {
     "name": "stdout",
     "output_type": "stream",
     "text": [
      "Best Model: AdaBoostClassifier with Accuracy: 0.6685 and Params: {'learning_rate': 0.1, 'n_estimators': 200}\n"
     ]
    }
   ],
   "source": [
    "# Find the best model\n",
    "best_model_name = max(model_results, key=lambda x: model_results[x][0])\n",
    "best_model_accuracy, best_model_params = model_results[best_model_name]\n",
    "print(f\"Best Model: {best_model_name} with Accuracy: {best_model_accuracy:.4f} and Params: {best_model_params}\")"
   ]
  },
  {
   "cell_type": "markdown",
   "metadata": {},
   "source": [
    "<html>\n",
    "<head>\n",
    "    <style>\n",
    "        .chapter-heading {\n",
    "            background: linear-gradient(45deg, #333 25%, transparent 25%, transparent 75%, #333 75%, #333);\n",
    "            color: #FFC8C2;\n",
    "            padding: 10px;\n",
    "            border-radius: 5px;\n",
    "            box-shadow: 0 2px 4px rgba(0, 0, 0, 0.2);\n",
    "            text-align: center;\n",
    "            font-size: 18px;\n",
    "            font-weight: bold;\n",
    "            margin-bottom: 10px;\n",
    "            /* Improved text visibility */\n",
    "            text-shadow: 2px 2px 4px rgba(0, 0, 0, 0.5); /* Adjust shadow as needed */\n",
    "        }\n",
    "    </style>\n",
    "</head>\n",
    "<body>\n",
    "    <div class=\"chapter-heading\">\n",
    "        <h1>Chapter 5. Model Performance Analysis</h1>\n",
    "    </div>\n",
    "</body>\n",
    "</html>\n"
   ]
  },
  {
   "cell_type": "markdown",
   "metadata": {},
   "source": [
    "## 5.1 Confusion Matrix for Best Model"
   ]
  },
  {
   "cell_type": "code",
   "execution_count": 16,
   "metadata": {},
   "outputs": [
    {
     "data": {
      "image/png": "[encoded data removed]",
      "text/plain": [
       "<Figure size 800x600 with 2 Axes>"
      ]
     },
     "metadata": {},
     "output_type": "display_data"
    }
   ],
   "source": [
    "# Re-train the best model with optimal parameters\n",
    "best_model = eval(best_model_name)(random_state=42, **(best_model_params or {}))\n",
    "best_model.fit(x_train, y_train)\n",
    "y_pred = best_model.predict(x_test)\n",
    "\n",
    "plt.figure(figsize=(8, 6))\n",
    "sns.heatmap(confusion_matrix(y_test, y_pred), annot=True, fmt='d', cmap='Blues')\n",
    "plt.title(f\"Confusion Matrix for {best_model_name}\")\n",
    "plt.xlabel('Predicted')\n",
    "plt.ylabel('Actual')\n",
    "plt.show()"
   ]
  },
  {
   "cell_type": "markdown",
   "metadata": {},
   "source": [
    "## 5.2 ROC Curve"
   ]
  },
  {
   "cell_type": "code",
   "execution_count": 19,
   "metadata": {},
   "outputs": [
    {
     "name": "stdout",
     "output_type": "stream",
     "text": [
      "ROC AUC Score: 0.8306\n"
     ]
    },
    {
     "data": {
      "image/png": "[encoded data removed]",
      "text/plain": [
       "<Figure size 1000x800 with 1 Axes>"
      ]
     },
     "metadata": {},
     "output_type": "display_data"
    }
   ],
   "source": [
    "# Compute ROC AUC for multi-class\n",
    "roc_auc = roc_auc_score(y_test, best_model.predict_proba(x_test), multi_class='ovr')\n",
    "print(f\"ROC AUC Score: {roc_auc:.4f}\")\n",
    "\n",
    "# Plot ROC Curve\n",
    "plt.figure(figsize=(10, 8))\n",
    "for i in range(len(best_model.classes_)):\n",
    "    fpr, tpr, _ = roc_curve(y_test == i, best_model.predict_proba(x_test)[:, i])\n",
    "    plt.plot(fpr, tpr, label=f'Class {i}')\n",
    "\n",
    "plt.plot([0, 1], [0, 1], 'k--', label='Random Guess')\n",
    "plt.title(\"ROC Curve\")\n",
    "plt.xlabel(\"False Positive Rate\")\n",
    "plt.ylabel(\"True Positive Rate\")\n",
    "plt.legend()\n",
    "plt.show()"
   ]
  },
  {
   "cell_type": "markdown",
   "metadata": {},
   "source": [
    "<!DOCTYPE html>\n",
    "<html>\n",
    "<head>\n",
    "    <style>\n",
    "        .chapter-heading {\n",
    "            background: linear-gradient(45deg, #333 25%, transparent 25%, transparent 75%, #333 75%, #333);\n",
    "            color: #FFC8C2;\n",
    "            padding: 10px;\n",
    "            border-radius: 5px;\n",
    "            box-shadow: 0 2px 4px rgba(0, 0, 0, 0.2);\n",
    "            text-align: center;\n",
    "            font-size: 18px;\n",
    "            font-weight: bold;\n",
    "            margin-bottom: 10px;\n",
    "            /* Improved text visibility */\n",
    "            text-shadow: 2px 2px 4px rgba(0, 0, 0, 0.5); /* Adjust shadow as needed */\n",
    "        }\n",
    "    </style>\n",
    "</head>\n",
    "<body>\n",
    "    <div class=\"chapter-heading\">\n",
    "        <h1>Chapter 6. Conclusion</h1>\n",
    "    </div>\n",
    "</body>\n",
    "</html>\n"
   ]
  },
  {
   "cell_type": "code",
   "execution_count": 20,
   "metadata": {},
   "outputs": [
    {
     "name": "stdout",
     "output_type": "stream",
     "text": [
      "\n",
      "- **Best Model:** AdaBoostClassifier\n",
      "- **Test Accuracy:** Achieved 0.6685\n",
      "- **ROC AUC Score:** 0.8306 \n",
      "\n"
     ]
    }
   ],
   "source": [
    "print(f\"\"\"\n",
    "- Best Model: {best_model_name}\n",
    "- Test Accuracy: Achieved {best_model_accuracy:.4f}\n",
    "- ROC AUC Score: {roc_auc:.4f} \n",
    "\"\"\")"
   ]
  },
  {
   "cell_type": "markdown",
   "metadata": {},
   "source": [
    "**Recommendations for Future Work:**\n",
    "1. **Feature Engineering:** Investigate new features that could improve model performance.\n",
    "2. **Advanced Hyperparameter Optimization:** Use Bayesian or evolutionary optimization techniques.\n",
    "3. **Ensemble Methods:** Explore advanced ensemble techniques like stacking or boosting to further improve results."
   ]
  }
 ],
 "metadata": {
  "kernelspec": {
   "display_name": "python_ml",
   "language": "python",
   "name": "python3"
  },
  "language_info": {
   "codemirror_mode": {
    "name": "ipython",
    "version": 3
   },
   "file_extension": ".py",
   "mimetype": "text/x-python",
   "name": "python",
   "nbconvert_exporter": "python",
   "pygments_lexer": "ipython3",
   "version": "3.11.9"
  }
 },
 "nbformat": 4,
 "nbformat_minor": 2
}
